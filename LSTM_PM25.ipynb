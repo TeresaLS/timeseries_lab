{
  "nbformat": 4,
  "nbformat_minor": 0,
  "metadata": {
    "colab": {
      "name": "LSTM_PM25.ipynb",
      "provenance": [],
      "authorship_tag": "ABX9TyP51mkVidjHvpEB1VeyZju0",
      "include_colab_link": true
    },
    "kernelspec": {
      "name": "python3",
      "display_name": "Python 3"
    },
    "language_info": {
      "name": "python"
    }
  },
  "cells": [
    {
      "cell_type": "markdown",
      "metadata": {
        "id": "view-in-github",
        "colab_type": "text"
      },
      "source": [
        "<a href=\"https://colab.research.google.com/github/Ignaciovf/timeseries_lab/blob/main/LSTM_PM25.ipynb\" target=\"_parent\"><img src=\"https://colab.research.google.com/assets/colab-badge.svg\" alt=\"Open In Colab\"/></a>"
      ]
    },
    {
      "cell_type": "code",
      "metadata": {
        "id": "8COnFsd20jZl"
      },
      "source": [
        ""
      ],
      "execution_count": null,
      "outputs": []
    },
    {
      "cell_type": "code",
      "metadata": {
        "colab": {
          "base_uri": "https://localhost:8080/"
        },
        "id": "-dVCG8hu0pMP",
        "outputId": "bc2cb0e9-0f78-4390-89d5-781f0b9034aa"
      },
      "source": [
        "import pandas as pd\n",
        "import matplotlib.pyplot as plt\n",
        "from datetime import timedelta\n",
        "import numpy as np\n",
        "import tensorflow as tf\n",
        "from tensorflow import keras\n",
        "from tensorflow.keras import Sequential\n",
        "from tensorflow.keras.layers import LSTM\n",
        "print('Tensorflow Version: ',tf.__version__) # Revisamos la versión de TF\n"
      ],
      "execution_count": 61,
      "outputs": [
        {
          "output_type": "stream",
          "text": [
            "Tensorflow Version:  2.4.1\n"
          ],
          "name": "stdout"
        }
      ]
    },
    {
      "cell_type": "markdown",
      "metadata": {
        "id": "QrH-dyi91Bno"
      },
      "source": [
        "Subimos el dataset que tengamos a Colab, hay que tener cuidado que se borrará en cuanto se reinicie el kernel"
      ]
    },
    {
      "cell_type": "code",
      "metadata": {
        "id": "UWU6sKQB0pUl"
      },
      "source": [
        "df=pd.read_csv('/content/VDE_daily_madrid_pollution.csv')"
      ],
      "execution_count": 18,
      "outputs": []
    },
    {
      "cell_type": "code",
      "metadata": {
        "id": "rHgjUG2B0pW6"
      },
      "source": [
        "# Creamos una función para normalizar los dataframes que tengamos\n",
        "# La normalización la vamos a realizar con los datos del train y no con los del test para evitar obtener resultados no generalizables. \n",
        "def normalize(data, train_split):\n",
        "    data_mean = data[:train_split].mean(axis=0)\n",
        "    data_std = data[:train_split].std(axis=0)\n",
        "    return (data - data_mean) / data_std"
      ],
      "execution_count": 19,
      "outputs": []
    },
    {
      "cell_type": "code",
      "metadata": {
        "id": "9NR97lum0pZI"
      },
      "source": [
        "# feature_keys=df.columns\n",
        "# Definimos qué columnas vamos a utilizar\n",
        "selected_columns = ['PM_CENTRO','HUMIDITY', 'PRECIPITAITON']\n",
        "df.index = df['Date']\n",
        "df=df[selected_columns]"
      ],
      "execution_count": 47,
      "outputs": []
    },
    {
      "cell_type": "code",
      "metadata": {
        "colab": {
          "base_uri": "https://localhost:8080/"
        },
        "id": "xOTjA8rM2oIy",
        "outputId": "21218f3b-d679-4b32-f773-9cc5703939a7"
      },
      "source": [
        "# Definimos el número de datos que vamos a incluír en el train y test\n",
        "# Elegimos 60 días para el train\n",
        "test_size=60\n",
        "train_size=df.shape[0]-test_size\n",
        "# definimos nuestro start y end date\n",
        "train_start_date = df.head(1).index.values[0]\n",
        "test_start_date=df.iloc[train_size:train_size+1].index.values[0]\n",
        "test_end_date = df.tail(1).index.values[0]\n",
        "print('Train empieza el ', train_start_date)\n",
        "print('Test empieza el ', test_start_date)\n",
        "print('Test termina el ',test_end_date)"
      ],
      "execution_count": 48,
      "outputs": [
        {
          "output_type": "stream",
          "text": [
            "Train empieza el  2010-01-01\n",
            "Test empieza el  2015-11-02\n",
            "Test termina el  2015-12-31\n"
          ],
          "name": "stdout"
        }
      ]
    },
    {
      "cell_type": "code",
      "metadata": {
        "colab": {
          "base_uri": "https://localhost:8080/",
          "height": 235
        },
        "id": "gdDtgLey0pbY",
        "outputId": "2731d910-759c-4c7f-99d0-7e1495b25237"
      },
      "source": [
        "# Vamos a normalizar los valores de los valores que vamos a seleccionar para el dataframe\n",
        "df = normalize(df.values, train_size)\n",
        "df = pd.DataFrame(regresors)\n",
        "df.head()"
      ],
      "execution_count": 49,
      "outputs": [
        {
          "output_type": "execute_result",
          "data": {
            "text/html": [
              "<div>\n",
              "<style scoped>\n",
              "    .dataframe tbody tr th:only-of-type {\n",
              "        vertical-align: middle;\n",
              "    }\n",
              "\n",
              "    .dataframe tbody tr th {\n",
              "        vertical-align: top;\n",
              "    }\n",
              "\n",
              "    .dataframe thead th {\n",
              "        text-align: right;\n",
              "    }\n",
              "</style>\n",
              "<table border=\"1\" class=\"dataframe\">\n",
              "  <thead>\n",
              "    <tr style=\"text-align: right;\">\n",
              "      <th></th>\n",
              "      <th>PM_CENTRO</th>\n",
              "      <th>HUMIDITY</th>\n",
              "      <th>PRECIPITAITON</th>\n",
              "    </tr>\n",
              "    <tr>\n",
              "      <th>Date</th>\n",
              "      <th></th>\n",
              "      <th></th>\n",
              "      <th></th>\n",
              "    </tr>\n",
              "  </thead>\n",
              "  <tbody>\n",
              "    <tr>\n",
              "      <th>2010-01-01</th>\n",
              "      <td>4.859812</td>\n",
              "      <td>3.649575</td>\n",
              "      <td>0.000000</td>\n",
              "    </tr>\n",
              "    <tr>\n",
              "      <th>2010-01-02</th>\n",
              "      <td>4.972125</td>\n",
              "      <td>4.355907</td>\n",
              "      <td>0.000000</td>\n",
              "    </tr>\n",
              "    <tr>\n",
              "      <th>2010-01-03</th>\n",
              "      <td>4.361505</td>\n",
              "      <td>4.476389</td>\n",
              "      <td>2.501436</td>\n",
              "    </tr>\n",
              "    <tr>\n",
              "      <th>2010-01-04</th>\n",
              "      <td>3.377303</td>\n",
              "      <td>3.833160</td>\n",
              "      <td>0.000000</td>\n",
              "    </tr>\n",
              "    <tr>\n",
              "      <th>2010-01-05</th>\n",
              "      <td>3.773718</td>\n",
              "      <td>3.738661</td>\n",
              "      <td>0.000000</td>\n",
              "    </tr>\n",
              "  </tbody>\n",
              "</table>\n",
              "</div>"
            ],
            "text/plain": [
              "            PM_CENTRO  HUMIDITY  PRECIPITAITON\n",
              "Date                                          \n",
              "2010-01-01   4.859812  3.649575       0.000000\n",
              "2010-01-02   4.972125  4.355907       0.000000\n",
              "2010-01-03   4.361505  4.476389       2.501436\n",
              "2010-01-04   3.377303  3.833160       0.000000\n",
              "2010-01-05   3.773718  3.738661       0.000000"
            ]
          },
          "metadata": {
            "tags": []
          },
          "execution_count": 49
        }
      ]
    },
    {
      "cell_type": "markdown",
      "metadata": {
        "id": "am2zvwHl2nE4"
      },
      "source": [
        "Vamos a crear los datos que necesitamos para entrenar el modelo "
      ]
    },
    {
      "cell_type": "code",
      "metadata": {
        "colab": {
          "base_uri": "https://localhost:8080/",
          "height": 235
        },
        "id": "sZVZB9vQ_FeV",
        "outputId": "53e62be2-d19b-471e-9fcd-f0ffbeb19305"
      },
      "source": [
        "df.head()"
      ],
      "execution_count": 53,
      "outputs": [
        {
          "output_type": "execute_result",
          "data": {
            "text/html": [
              "<div>\n",
              "<style scoped>\n",
              "    .dataframe tbody tr th:only-of-type {\n",
              "        vertical-align: middle;\n",
              "    }\n",
              "\n",
              "    .dataframe tbody tr th {\n",
              "        vertical-align: top;\n",
              "    }\n",
              "\n",
              "    .dataframe thead th {\n",
              "        text-align: right;\n",
              "    }\n",
              "</style>\n",
              "<table border=\"1\" class=\"dataframe\">\n",
              "  <thead>\n",
              "    <tr style=\"text-align: right;\">\n",
              "      <th></th>\n",
              "      <th>PM_CENTRO</th>\n",
              "      <th>HUMIDITY</th>\n",
              "      <th>PRECIPITAITON</th>\n",
              "    </tr>\n",
              "    <tr>\n",
              "      <th>Date</th>\n",
              "      <th></th>\n",
              "      <th></th>\n",
              "      <th></th>\n",
              "    </tr>\n",
              "  </thead>\n",
              "  <tbody>\n",
              "    <tr>\n",
              "      <th>2010-01-01</th>\n",
              "      <td>4.859812</td>\n",
              "      <td>3.649575</td>\n",
              "      <td>0.000000</td>\n",
              "    </tr>\n",
              "    <tr>\n",
              "      <th>2010-01-02</th>\n",
              "      <td>4.972125</td>\n",
              "      <td>4.355907</td>\n",
              "      <td>0.000000</td>\n",
              "    </tr>\n",
              "    <tr>\n",
              "      <th>2010-01-03</th>\n",
              "      <td>4.361505</td>\n",
              "      <td>4.476389</td>\n",
              "      <td>2.501436</td>\n",
              "    </tr>\n",
              "    <tr>\n",
              "      <th>2010-01-04</th>\n",
              "      <td>3.377303</td>\n",
              "      <td>3.833160</td>\n",
              "      <td>0.000000</td>\n",
              "    </tr>\n",
              "    <tr>\n",
              "      <th>2010-01-05</th>\n",
              "      <td>3.773718</td>\n",
              "      <td>3.738661</td>\n",
              "      <td>0.000000</td>\n",
              "    </tr>\n",
              "  </tbody>\n",
              "</table>\n",
              "</div>"
            ],
            "text/plain": [
              "            PM_CENTRO  HUMIDITY  PRECIPITAITON\n",
              "Date                                          \n",
              "2010-01-01   4.859812  3.649575       0.000000\n",
              "2010-01-02   4.972125  4.355907       0.000000\n",
              "2010-01-03   4.361505  4.476389       2.501436\n",
              "2010-01-04   3.377303  3.833160       0.000000\n",
              "2010-01-05   3.773718  3.738661       0.000000"
            ]
          },
          "metadata": {
            "tags": []
          },
          "execution_count": 53
        }
      ]
    },
    {
      "cell_type": "code",
      "metadata": {
        "id": "VMbFczcf0pgZ"
      },
      "source": [
        "df.index = pd.to_datetime(df.index)\n",
        "train_data = df.loc[pd.to_datetime(train_start_date) : pd.to_datetime(test_start_date)+timedelta(days=-1)]\n",
        "val_data = df.loc[pd.to_datetime(train_start_date):]\n",
        "\n",
        "\n",
        "# x_train = train_data[[i for i in range(len(df.columns))]].values\n",
        "# y_train = df.iloc[:train_size][[1]]\n",
        "\n",
        "# print(x_train)"
      ],
      "execution_count": 68,
      "outputs": []
    },
    {
      "cell_type": "code",
      "metadata": {
        "colab": {
          "base_uri": "https://localhost:8080/"
        },
        "id": "bvJPCOb0APfI",
        "outputId": "8ba5facc-3c94-4fa1-b96e-628746c6d808"
      },
      "source": [
        "pd.to_datetime(test_start_date)"
      ],
      "execution_count": 67,
      "outputs": [
        {
          "output_type": "execute_result",
          "data": {
            "text/plain": [
              "Timestamp('2015-11-03 00:00:00')"
            ]
          },
          "metadata": {
            "tags": []
          },
          "execution_count": 67
        }
      ]
    },
    {
      "cell_type": "code",
      "metadata": {
        "colab": {
          "base_uri": "https://localhost:8080/"
        },
        "id": "P5Za_Tv10pio",
        "outputId": "f039e47f-17d0-4a43-ad8b-c8dc5dd43e1a"
      },
      "source": [
        "help(timedelta)"
      ],
      "execution_count": 63,
      "outputs": [
        {
          "output_type": "stream",
          "text": [
            "Help on class timedelta in module datetime:\n",
            "\n",
            "class timedelta(builtins.object)\n",
            " |  Difference between two datetime values.\n",
            " |  \n",
            " |  timedelta(days=0, seconds=0, microseconds=0, milliseconds=0, minutes=0, hours=0, weeks=0)\n",
            " |  \n",
            " |  All arguments are optional and default to 0.\n",
            " |  Arguments may be integers or floats, and may be positive or negative.\n",
            " |  \n",
            " |  Methods defined here:\n",
            " |  \n",
            " |  __abs__(self, /)\n",
            " |      abs(self)\n",
            " |  \n",
            " |  __add__(self, value, /)\n",
            " |      Return self+value.\n",
            " |  \n",
            " |  __bool__(self, /)\n",
            " |      self != 0\n",
            " |  \n",
            " |  __divmod__(self, value, /)\n",
            " |      Return divmod(self, value).\n",
            " |  \n",
            " |  __eq__(self, value, /)\n",
            " |      Return self==value.\n",
            " |  \n",
            " |  __floordiv__(self, value, /)\n",
            " |      Return self//value.\n",
            " |  \n",
            " |  __ge__(self, value, /)\n",
            " |      Return self>=value.\n",
            " |  \n",
            " |  __getattribute__(self, name, /)\n",
            " |      Return getattr(self, name).\n",
            " |  \n",
            " |  __gt__(self, value, /)\n",
            " |      Return self>value.\n",
            " |  \n",
            " |  __hash__(self, /)\n",
            " |      Return hash(self).\n",
            " |  \n",
            " |  __le__(self, value, /)\n",
            " |      Return self<=value.\n",
            " |  \n",
            " |  __lt__(self, value, /)\n",
            " |      Return self<value.\n",
            " |  \n",
            " |  __mod__(self, value, /)\n",
            " |      Return self%value.\n",
            " |  \n",
            " |  __mul__(self, value, /)\n",
            " |      Return self*value.\n",
            " |  \n",
            " |  __ne__(self, value, /)\n",
            " |      Return self!=value.\n",
            " |  \n",
            " |  __neg__(self, /)\n",
            " |      -self\n",
            " |  \n",
            " |  __pos__(self, /)\n",
            " |      +self\n",
            " |  \n",
            " |  __radd__(self, value, /)\n",
            " |      Return value+self.\n",
            " |  \n",
            " |  __rdivmod__(self, value, /)\n",
            " |      Return divmod(value, self).\n",
            " |  \n",
            " |  __reduce__(...)\n",
            " |      __reduce__() -> (cls, state)\n",
            " |  \n",
            " |  __repr__(self, /)\n",
            " |      Return repr(self).\n",
            " |  \n",
            " |  __rfloordiv__(self, value, /)\n",
            " |      Return value//self.\n",
            " |  \n",
            " |  __rmod__(self, value, /)\n",
            " |      Return value%self.\n",
            " |  \n",
            " |  __rmul__(self, value, /)\n",
            " |      Return value*self.\n",
            " |  \n",
            " |  __rsub__(self, value, /)\n",
            " |      Return value-self.\n",
            " |  \n",
            " |  __rtruediv__(self, value, /)\n",
            " |      Return value/self.\n",
            " |  \n",
            " |  __str__(self, /)\n",
            " |      Return str(self).\n",
            " |  \n",
            " |  __sub__(self, value, /)\n",
            " |      Return self-value.\n",
            " |  \n",
            " |  __truediv__(self, value, /)\n",
            " |      Return self/value.\n",
            " |  \n",
            " |  total_seconds(...)\n",
            " |      Total seconds in the duration.\n",
            " |  \n",
            " |  ----------------------------------------------------------------------\n",
            " |  Static methods defined here:\n",
            " |  \n",
            " |  __new__(*args, **kwargs) from builtins.type\n",
            " |      Create and return a new object.  See help(type) for accurate signature.\n",
            " |  \n",
            " |  ----------------------------------------------------------------------\n",
            " |  Data descriptors defined here:\n",
            " |  \n",
            " |  days\n",
            " |      Number of days.\n",
            " |  \n",
            " |  microseconds\n",
            " |      Number of microseconds (>= 0 and less than 1 second).\n",
            " |  \n",
            " |  seconds\n",
            " |      Number of seconds (>= 0 and less than 1 day).\n",
            " |  \n",
            " |  ----------------------------------------------------------------------\n",
            " |  Data and other attributes defined here:\n",
            " |  \n",
            " |  max = datetime.timedelta(days=999999999, seconds=86399, microseconds=9...\n",
            " |  \n",
            " |  min = datetime.timedelta(days=-999999999)\n",
            " |  \n",
            " |  resolution = datetime.timedelta(microseconds=1)\n",
            "\n"
          ],
          "name": "stdout"
        }
      ]
    },
    {
      "cell_type": "code",
      "metadata": {
        "id": "_MMTnh9z0plI"
      },
      "source": [
        ""
      ],
      "execution_count": null,
      "outputs": []
    },
    {
      "cell_type": "code",
      "metadata": {
        "id": "xvE_V2KB0pno"
      },
      "source": [
        ""
      ],
      "execution_count": null,
      "outputs": []
    },
    {
      "cell_type": "code",
      "metadata": {
        "id": "H5D8HHzR0pp6"
      },
      "source": [
        ""
      ],
      "execution_count": null,
      "outputs": []
    },
    {
      "cell_type": "code",
      "metadata": {
        "id": "ogHJsJYL0psS"
      },
      "source": [
        ""
      ],
      "execution_count": null,
      "outputs": []
    },
    {
      "cell_type": "code",
      "metadata": {
        "id": "shFuSBAB0pvI"
      },
      "source": [
        ""
      ],
      "execution_count": null,
      "outputs": []
    },
    {
      "cell_type": "code",
      "metadata": {
        "id": "jWpNa-TQ0pxa"
      },
      "source": [
        ""
      ],
      "execution_count": null,
      "outputs": []
    },
    {
      "cell_type": "code",
      "metadata": {
        "id": "j8tHPCeE0pz_"
      },
      "source": [
        ""
      ],
      "execution_count": null,
      "outputs": []
    }
  ]
}